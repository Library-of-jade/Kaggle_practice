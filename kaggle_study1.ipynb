{
  "nbformat": 4,
  "nbformat_minor": 0,
  "metadata": {
    "colab": {
      "name": "kaggle_study1.ipynb",
      "provenance": [],
      "collapsed_sections": [],
      "mount_file_id": "1ABEiz0UrXjpOWFbXfjjqjI5Kr_FuJYRn",
      "authorship_tag": "ABX9TyOikbG/zm++YvwmmPAqjy8a",
      "include_colab_link": true
    },
    "kernelspec": {
      "name": "python3",
      "display_name": "Python 3"
    },
    "language_info": {
      "name": "python"
    }
  },
  "cells": [
    {
      "cell_type": "markdown",
      "metadata": {
        "id": "view-in-github",
        "colab_type": "text"
      },
      "source": [
        "<a href=\"https://colab.research.google.com/github/Library-of-jade/Kaggle_practice/blob/main/kaggle_study1.ipynb\" target=\"_parent\"><img src=\"https://colab.research.google.com/assets/colab-badge.svg\" alt=\"Open In Colab\"/></a>"
      ]
    },
    {
      "cell_type": "markdown",
      "metadata": {
        "id": "mmSbVWQNMC7c"
      },
      "source": [
        "코로나의 사망 위험을 결정 짓는 두가지 요인\n",
        "- 연령(Age): 고령층은 코로나 19로 인한 사망 위험이 높음\n",
        "- 기저질환(Illness/Morbidity): 기저질환이 있는 사람들은 코로나19로 인한 사망 위험이 높음\n"
      ]
    },
    {
      "cell_type": "markdown",
      "metadata": {
        "id": "O9hW64DVMU9c"
      },
      "source": [
        "## BUT 여기서는 새로운 요인을 알아보자(행동요인)"
      ]
    },
    {
      "cell_type": "markdown",
      "metadata": {
        "id": "TpNWxLbFMkc-"
      },
      "source": [
        "### 1)확진자 행동 특성의 네 가지 유형\n",
        "\n",
        "1. Hypermobile and hypersocial unknowns : 매우 높은 수준의 유동성과 사회성을 지닌 유형으로 감염 경로를 파악할 수 없으며 코로나19 확진을 늦게 받은 경향을 보인 유형\n",
        "\n",
        "\n",
        "2.  Moderate groupies\n",
        ": 유동성이 보통 수준이면서 다소 높은 수준의 사회적 교류 활동을 보이며 집단으로 감염된 유형. 증상 발현 후 코로나19 확진을 받기까지 평균 수준의 시간이 걸림\n",
        "\n",
        "\n",
        "3. Social minimalists\n",
        ": 유동성과 사회성의 수준이 보통보다 낮은 유형. 바이러스 감염자와의 직접 접촉으로 감염되었으며 확진 받기까지 평균 수준의 시간이 걸림.\n",
        "\n",
        "\n",
        "4. Overseas non-essentialists\n",
        ": 가장 낮은 유동성과 사회성을 보인 유형. 해외에서 유입되었고 증상 발현 이후 확진받기까지 가장 짧은 시간이 걸린 유형."
      ]
    },
    {
      "cell_type": "markdown",
      "metadata": {
        "id": "UM8gp0eOU7Cf"
      },
      "source": [
        "##2) 사망 위험과 관련된 주요 요인: 확진받기까지 걸린 시간\n",
        "\n",
        "진단을 늦게 받을수록 치료와 관리가 늦어지기 때문에 사망자와 회복자로 나뉘게되는 요인 중 확진까지 걸리는 시간이다."
      ]
    },
    {
      "cell_type": "markdown",
      "metadata": {
        "id": "nZRw-ReT8I0u"
      },
      "source": [
        "## **Feature Engineering**\n",
        "행동 특성과 관련된 특징\n",
        "\n",
        "1) 감염 경로 유형\n",
        "\n",
        "2) 유동서\n",
        "\n",
        "3) 접촉 정도\n",
        "\n",
        "4) 확진받기까지 걸린 시간\n"
      ]
    },
    {
      "cell_type": "code",
      "metadata": {
        "id": "LpHLFtv0MkC4"
      },
      "source": [
        "from IPython.display import HTML\n",
        "import pandas as pd\n",
        "import numpy as np\n",
        "import seaborn as sns\n",
        "import matplotlib.pyplot as plt\n",
        "import matplotlib.dates as mdates\n",
        "import matplotlib.animation as animation\n",
        "\n",
        "import plotly.express as px\n",
        "import plotly.io as pio\n",
        "pio.renderers.default = \"notebook_connected\"\n",
        "\n",
        "from sklearn.preprocessing import LabelEncoder, OneHotEncoder, StandardScaler\n",
        "from sklearn.cluster import KMeans\n",
        "from sklearn.decomposition import PCA\n",
        "\n",
        "pd.set_option('display.float_format', lambda x: '%.2f' % x)\n",
        "import warnings\n",
        "warnings.filterwarnings('ignore')"
      ],
      "execution_count": null,
      "outputs": []
    },
    {
      "cell_type": "code",
      "metadata": {
        "id": "3sN_g0z_EwXM",
        "colab": {
          "base_uri": "https://localhost:8080/",
          "height": 216
        },
        "outputId": "fe19ac27-a135-49ce-b388-42fae915b091"
      },
      "source": [
        "patient = pd.read_csv('/content/drive/MyDrive/Bootcamp/AI_8_스터디/kaggle필사/First/PatientInfo.csv')\n",
        "patient.head(3)"
      ],
      "execution_count": null,
      "outputs": [
        {
          "output_type": "execute_result",
          "data": {
            "text/html": [
              "<div>\n",
              "<style scoped>\n",
              "    .dataframe tbody tr th:only-of-type {\n",
              "        vertical-align: middle;\n",
              "    }\n",
              "\n",
              "    .dataframe tbody tr th {\n",
              "        vertical-align: top;\n",
              "    }\n",
              "\n",
              "    .dataframe thead th {\n",
              "        text-align: right;\n",
              "    }\n",
              "</style>\n",
              "<table border=\"1\" class=\"dataframe\">\n",
              "  <thead>\n",
              "    <tr style=\"text-align: right;\">\n",
              "      <th></th>\n",
              "      <th>patient_id</th>\n",
              "      <th>global_num</th>\n",
              "      <th>sex</th>\n",
              "      <th>birth_year</th>\n",
              "      <th>age</th>\n",
              "      <th>country</th>\n",
              "      <th>province</th>\n",
              "      <th>city</th>\n",
              "      <th>disease</th>\n",
              "      <th>infection_case</th>\n",
              "      <th>infection_order</th>\n",
              "      <th>infected_by</th>\n",
              "      <th>contact_number</th>\n",
              "      <th>symptom_onset_date</th>\n",
              "      <th>confirmed_date</th>\n",
              "      <th>released_date</th>\n",
              "      <th>deceased_date</th>\n",
              "      <th>state</th>\n",
              "    </tr>\n",
              "  </thead>\n",
              "  <tbody>\n",
              "    <tr>\n",
              "      <th>0</th>\n",
              "      <td>1000000001</td>\n",
              "      <td>2.00</td>\n",
              "      <td>male</td>\n",
              "      <td>1964.00</td>\n",
              "      <td>50s</td>\n",
              "      <td>Korea</td>\n",
              "      <td>Seoul</td>\n",
              "      <td>Gangseo-gu</td>\n",
              "      <td>NaN</td>\n",
              "      <td>overseas inflow</td>\n",
              "      <td>1.00</td>\n",
              "      <td>nan</td>\n",
              "      <td>75.00</td>\n",
              "      <td>2020-01-22</td>\n",
              "      <td>2020-01-23</td>\n",
              "      <td>2020-02-05</td>\n",
              "      <td>NaN</td>\n",
              "      <td>released</td>\n",
              "    </tr>\n",
              "    <tr>\n",
              "      <th>1</th>\n",
              "      <td>1000000002</td>\n",
              "      <td>5.00</td>\n",
              "      <td>male</td>\n",
              "      <td>1987.00</td>\n",
              "      <td>30s</td>\n",
              "      <td>Korea</td>\n",
              "      <td>Seoul</td>\n",
              "      <td>Jungnang-gu</td>\n",
              "      <td>NaN</td>\n",
              "      <td>overseas inflow</td>\n",
              "      <td>1.00</td>\n",
              "      <td>nan</td>\n",
              "      <td>31.00</td>\n",
              "      <td>NaN</td>\n",
              "      <td>2020-01-30</td>\n",
              "      <td>2020-03-02</td>\n",
              "      <td>NaN</td>\n",
              "      <td>released</td>\n",
              "    </tr>\n",
              "    <tr>\n",
              "      <th>2</th>\n",
              "      <td>1000000003</td>\n",
              "      <td>6.00</td>\n",
              "      <td>male</td>\n",
              "      <td>1964.00</td>\n",
              "      <td>50s</td>\n",
              "      <td>Korea</td>\n",
              "      <td>Seoul</td>\n",
              "      <td>Jongno-gu</td>\n",
              "      <td>NaN</td>\n",
              "      <td>contact with patient</td>\n",
              "      <td>2.00</td>\n",
              "      <td>2002000001.00</td>\n",
              "      <td>17.00</td>\n",
              "      <td>NaN</td>\n",
              "      <td>2020-01-30</td>\n",
              "      <td>2020-02-19</td>\n",
              "      <td>NaN</td>\n",
              "      <td>released</td>\n",
              "    </tr>\n",
              "  </tbody>\n",
              "</table>\n",
              "</div>"
            ],
            "text/plain": [
              "   patient_id  global_num   sex  ...  released_date deceased_date     state\n",
              "0  1000000001        2.00  male  ...     2020-02-05           NaN  released\n",
              "1  1000000002        5.00  male  ...     2020-03-02           NaN  released\n",
              "2  1000000003        6.00  male  ...     2020-02-19           NaN  released\n",
              "\n",
              "[3 rows x 18 columns]"
            ]
          },
          "metadata": {},
          "execution_count": 20
        }
      ]
    },
    {
      "cell_type": "code",
      "metadata": {
        "colab": {
          "base_uri": "https://localhost:8080/"
        },
        "id": "sas9BJxj-gzC",
        "outputId": "bbb44d57-55f1-4fe3-a9d6-2078e3b8f4d8"
      },
      "source": [
        "patient.shape"
      ],
      "execution_count": null,
      "outputs": [
        {
          "output_type": "execute_result",
          "data": {
            "text/plain": [
              "(3388, 18)"
            ]
          },
          "metadata": {},
          "execution_count": 21
        }
      ]
    },
    {
      "cell_type": "code",
      "metadata": {
        "id": "pnbRg3KnCoiJ"
      },
      "source": [
        "data = patient.copy()"
      ],
      "execution_count": null,
      "outputs": []
    },
    {
      "cell_type": "markdown",
      "metadata": {
        "id": "xuubmeR9Cr4n"
      },
      "source": [
        "감염 경로 유형\n"
      ]
    },
    {
      "cell_type": "code",
      "metadata": {
        "colab": {
          "base_uri": "https://localhost:8080/"
        },
        "id": "Kufhk7TL-ksL",
        "outputId": "734a0abc-4ac8-4fd0-a634-0a7e6303aa71"
      },
      "source": [
        "print('the number of unique values in infection_case:', len(data['infection_case'].unique()))\n",
        "data['infection_case'].unique()"
      ],
      "execution_count": null,
      "outputs": [
        {
          "output_type": "stream",
          "name": "stdout",
          "text": [
            "the number of unique values in infection_case: 24\n"
          ]
        },
        {
          "output_type": "execute_result",
          "data": {
            "text/plain": [
              "array(['overseas inflow', 'contact with patient', 'Seongdong-gu APT',\n",
              "       'etc', \"Eunpyeong St. Mary's Hospital\", 'Shincheonji Church',\n",
              "       'Dongan Church', 'Guro-gu Call Center', 'Onchun Church',\n",
              "       'Cheongdo Daenam Hospital', 'Suyeong-gu Kindergarten', nan,\n",
              "       'Ministry of Oceans and Fisheries', 'gym facility in Cheonan',\n",
              "       'gym facility in Sejong', 'River of Grace Community Church',\n",
              "       'Gyeongsan Seorin Nursing Home',\n",
              "       'Gyeongsan Cham Joeun Community Center',\n",
              "       'Gyeongsan Jeil Silver Town', 'Bonghwa Pureun Nursing Home',\n",
              "       'Pilgrimage to Israel', 'Milal Shelter', 'Geochang Church',\n",
              "       'Changnyeong Coin Karaoke'], dtype=object)"
            ]
          },
          "metadata": {},
          "execution_count": 23
        }
      ]
    },
    {
      "cell_type": "code",
      "metadata": {
        "colab": {
          "base_uri": "https://localhost:8080/",
          "height": 367
        },
        "id": "m7mbY2FeC2FD",
        "outputId": "d1261fc5-0a26-4add-fb7e-f92010e485ff"
      },
      "source": [
        "g = data.groupby(['infection_case'])['patient_id'].count()\n",
        "g = g.reset_index()\n",
        "g.rename(columns={'patient_id' : 'count'}, inplace = True)\n",
        "\n",
        "g = g.sort_values('count', ascending = False)\n",
        "\n",
        "plt.figure(figsize=(12, 6))\n",
        "plt.title(\"number of patient in infection_case values\")\n",
        "sns.barplot(y='infection_case', x='count', data =g)\n",
        "display()"
      ],
      "execution_count": null,
      "outputs": [
        {
          "output_type": "display_data",
          "data": {
            "image/png": "[encoded data removed]",
            "text/plain": [
              "<Figure size 864x432 with 1 Axes>"
            ]
          },
          "metadata": {
            "needs_background": "light"
          }
        }
      ]
    },
    {
      "cell_type": "code",
      "metadata": {
        "colab": {
          "base_uri": "https://localhost:8080/",
          "height": 238
        },
        "id": "d8qZFIQmIdjR",
        "outputId": "b6add6c5-6b98-43e8-ab53-de98f575d6c2"
      },
      "source": [
        "g = data.groupby(['infection_case'])['patient_id'].count()\n",
        "g = pd.DataFrame(g)\n",
        "\n",
        "infection_case_less_than_5 = g[g['patient_id'] < 5].index.tolist()\n",
        "g[g.index.isin(infection_case_less_than_5)]"
      ],
      "execution_count": null,
      "outputs": [
        {
          "output_type": "execute_result",
          "data": {
            "text/html": [
              "<div>\n",
              "<style scoped>\n",
              "    .dataframe tbody tr th:only-of-type {\n",
              "        vertical-align: middle;\n",
              "    }\n",
              "\n",
              "    .dataframe tbody tr th {\n",
              "        vertical-align: top;\n",
              "    }\n",
              "\n",
              "    .dataframe thead th {\n",
              "        text-align: right;\n",
              "    }\n",
              "</style>\n",
              "<table border=\"1\" class=\"dataframe\">\n",
              "  <thead>\n",
              "    <tr style=\"text-align: right;\">\n",
              "      <th></th>\n",
              "      <th>patient_id</th>\n",
              "    </tr>\n",
              "    <tr>\n",
              "      <th>infection_case</th>\n",
              "      <th></th>\n",
              "    </tr>\n",
              "  </thead>\n",
              "  <tbody>\n",
              "    <tr>\n",
              "      <th>Changnyeong Coin Karaoke</th>\n",
              "      <td>4</td>\n",
              "    </tr>\n",
              "    <tr>\n",
              "      <th>Pilgrimage to Israel</th>\n",
              "      <td>2</td>\n",
              "    </tr>\n",
              "    <tr>\n",
              "      <th>River of Grace Community Church</th>\n",
              "      <td>1</td>\n",
              "    </tr>\n",
              "    <tr>\n",
              "      <th>Suyeong-gu Kindergarten</th>\n",
              "      <td>3</td>\n",
              "    </tr>\n",
              "    <tr>\n",
              "      <th>gym facility in Sejong</th>\n",
              "      <td>4</td>\n",
              "    </tr>\n",
              "  </tbody>\n",
              "</table>\n",
              "</div>"
            ],
            "text/plain": [
              "                                 patient_id\n",
              "infection_case                             \n",
              "Changnyeong Coin Karaoke                  4\n",
              "Pilgrimage to Israel                      2\n",
              "River of Grace Community Church           1\n",
              "Suyeong-gu Kindergarten                   3\n",
              "gym facility in Sejong                    4"
            ]
          },
          "metadata": {},
          "execution_count": 25
        }
      ]
    },
    {
      "cell_type": "code",
      "metadata": {
        "colab": {
          "base_uri": "https://localhost:8080/"
        },
        "id": "duDfiAAdJy7U",
        "outputId": "9ca01d4b-ad30-425b-8ffa-5a6cc96df466"
      },
      "source": [
        "print(\"original data shape: \", data.shape)\n",
        "data = data[~(data['infection_case'].isin(infection_case_less_than_5))]\n",
        "print(\"data shape after slicing\")"
      ],
      "execution_count": null,
      "outputs": [
        {
          "output_type": "stream",
          "name": "stdout",
          "text": [
            "original data shape:  (3388, 18)\n",
            "data shape after slicing\n"
          ]
        }
      ]
    },
    {
      "cell_type": "code",
      "metadata": {
        "colab": {
          "base_uri": "https://localhost:8080/"
        },
        "id": "24o5BwgmKKWh",
        "outputId": "2e76c7fb-4c75-447a-f8d2-1c6317465701"
      },
      "source": [
        "data[data[\"infection_case\"].isna()].shape"
      ],
      "execution_count": null,
      "outputs": [
        {
          "output_type": "execute_result",
          "data": {
            "text/plain": [
              "(768, 18)"
            ]
          },
          "metadata": {},
          "execution_count": 27
        }
      ]
    },
    {
      "cell_type": "code",
      "metadata": {
        "colab": {
          "base_uri": "https://localhost:8080/",
          "height": 314
        },
        "id": "c-VoSFglKPRU",
        "outputId": "d36769c5-505e-4c18-c04e-3200d2f8bf5c"
      },
      "source": [
        "def categorisation(x):\n",
        "  if x == 'overseas inflow':\n",
        "    y = 'overseas'\n",
        "  elif x == 'contact with patient':\n",
        "    y = 'individual'\n",
        "  elif (x == 'etc') | (pd.isna(x)):\n",
        "    y = 'unknown'\n",
        "  else:\n",
        "    y = 'group'\n",
        "\n",
        "  return y\n",
        "\n",
        "data['infection'] = data['infection_case'].apply(lambda x:categorisation(x))\n",
        "print(data.shape)\n",
        "data.head()"
      ],
      "execution_count": null,
      "outputs": [
        {
          "output_type": "stream",
          "name": "stdout",
          "text": [
            "(3374, 19)\n"
          ]
        },
        {
          "output_type": "execute_result",
          "data": {
            "text/html": [
              "<div>\n",
              "<style scoped>\n",
              "    .dataframe tbody tr th:only-of-type {\n",
              "        vertical-align: middle;\n",
              "    }\n",
              "\n",
              "    .dataframe tbody tr th {\n",
              "        vertical-align: top;\n",
              "    }\n",
              "\n",
              "    .dataframe thead th {\n",
              "        text-align: right;\n",
              "    }\n",
              "</style>\n",
              "<table border=\"1\" class=\"dataframe\">\n",
              "  <thead>\n",
              "    <tr style=\"text-align: right;\">\n",
              "      <th></th>\n",
              "      <th>patient_id</th>\n",
              "      <th>global_num</th>\n",
              "      <th>sex</th>\n",
              "      <th>birth_year</th>\n",
              "      <th>age</th>\n",
              "      <th>country</th>\n",
              "      <th>province</th>\n",
              "      <th>city</th>\n",
              "      <th>disease</th>\n",
              "      <th>infection_case</th>\n",
              "      <th>infection_order</th>\n",
              "      <th>infected_by</th>\n",
              "      <th>contact_number</th>\n",
              "      <th>symptom_onset_date</th>\n",
              "      <th>confirmed_date</th>\n",
              "      <th>released_date</th>\n",
              "      <th>deceased_date</th>\n",
              "      <th>state</th>\n",
              "      <th>infection</th>\n",
              "    </tr>\n",
              "  </thead>\n",
              "  <tbody>\n",
              "    <tr>\n",
              "      <th>0</th>\n",
              "      <td>1000000001</td>\n",
              "      <td>2.00</td>\n",
              "      <td>male</td>\n",
              "      <td>1964.00</td>\n",
              "      <td>50s</td>\n",
              "      <td>Korea</td>\n",
              "      <td>Seoul</td>\n",
              "      <td>Gangseo-gu</td>\n",
              "      <td>NaN</td>\n",
              "      <td>overseas inflow</td>\n",
              "      <td>1.00</td>\n",
              "      <td>nan</td>\n",
              "      <td>75.00</td>\n",
              "      <td>2020-01-22</td>\n",
              "      <td>2020-01-23</td>\n",
              "      <td>2020-02-05</td>\n",
              "      <td>NaN</td>\n",
              "      <td>released</td>\n",
              "      <td>overseas</td>\n",
              "    </tr>\n",
              "    <tr>\n",
              "      <th>1</th>\n",
              "      <td>1000000002</td>\n",
              "      <td>5.00</td>\n",
              "      <td>male</td>\n",
              "      <td>1987.00</td>\n",
              "      <td>30s</td>\n",
              "      <td>Korea</td>\n",
              "      <td>Seoul</td>\n",
              "      <td>Jungnang-gu</td>\n",
              "      <td>NaN</td>\n",
              "      <td>overseas inflow</td>\n",
              "      <td>1.00</td>\n",
              "      <td>nan</td>\n",
              "      <td>31.00</td>\n",
              "      <td>NaN</td>\n",
              "      <td>2020-01-30</td>\n",
              "      <td>2020-03-02</td>\n",
              "      <td>NaN</td>\n",
              "      <td>released</td>\n",
              "      <td>overseas</td>\n",
              "    </tr>\n",
              "    <tr>\n",
              "      <th>2</th>\n",
              "      <td>1000000003</td>\n",
              "      <td>6.00</td>\n",
              "      <td>male</td>\n",
              "      <td>1964.00</td>\n",
              "      <td>50s</td>\n",
              "      <td>Korea</td>\n",
              "      <td>Seoul</td>\n",
              "      <td>Jongno-gu</td>\n",
              "      <td>NaN</td>\n",
              "      <td>contact with patient</td>\n",
              "      <td>2.00</td>\n",
              "      <td>2002000001.00</td>\n",
              "      <td>17.00</td>\n",
              "      <td>NaN</td>\n",
              "      <td>2020-01-30</td>\n",
              "      <td>2020-02-19</td>\n",
              "      <td>NaN</td>\n",
              "      <td>released</td>\n",
              "      <td>individual</td>\n",
              "    </tr>\n",
              "    <tr>\n",
              "      <th>3</th>\n",
              "      <td>1000000004</td>\n",
              "      <td>7.00</td>\n",
              "      <td>male</td>\n",
              "      <td>1991.00</td>\n",
              "      <td>20s</td>\n",
              "      <td>Korea</td>\n",
              "      <td>Seoul</td>\n",
              "      <td>Mapo-gu</td>\n",
              "      <td>NaN</td>\n",
              "      <td>overseas inflow</td>\n",
              "      <td>1.00</td>\n",
              "      <td>nan</td>\n",
              "      <td>9.00</td>\n",
              "      <td>2020-01-26</td>\n",
              "      <td>2020-01-30</td>\n",
              "      <td>2020-02-15</td>\n",
              "      <td>NaN</td>\n",
              "      <td>released</td>\n",
              "      <td>overseas</td>\n",
              "    </tr>\n",
              "    <tr>\n",
              "      <th>4</th>\n",
              "      <td>1000000005</td>\n",
              "      <td>9.00</td>\n",
              "      <td>female</td>\n",
              "      <td>1992.00</td>\n",
              "      <td>20s</td>\n",
              "      <td>Korea</td>\n",
              "      <td>Seoul</td>\n",
              "      <td>Seongbuk-gu</td>\n",
              "      <td>NaN</td>\n",
              "      <td>contact with patient</td>\n",
              "      <td>2.00</td>\n",
              "      <td>1000000002.00</td>\n",
              "      <td>2.00</td>\n",
              "      <td>NaN</td>\n",
              "      <td>2020-01-31</td>\n",
              "      <td>2020-02-24</td>\n",
              "      <td>NaN</td>\n",
              "      <td>released</td>\n",
              "      <td>individual</td>\n",
              "    </tr>\n",
              "  </tbody>\n",
              "</table>\n",
              "</div>"
            ],
            "text/plain": [
              "   patient_id  global_num     sex  ...  deceased_date     state   infection\n",
              "0  1000000001        2.00    male  ...            NaN  released    overseas\n",
              "1  1000000002        5.00    male  ...            NaN  released    overseas\n",
              "2  1000000003        6.00    male  ...            NaN  released  individual\n",
              "3  1000000004        7.00    male  ...            NaN  released    overseas\n",
              "4  1000000005        9.00  female  ...            NaN  released  individual\n",
              "\n",
              "[5 rows x 19 columns]"
            ]
          },
          "metadata": {},
          "execution_count": 28
        }
      ]
    },
    {
      "cell_type": "code",
      "metadata": {
        "colab": {
          "base_uri": "https://localhost:8080/",
          "height": 404
        },
        "id": "bTdQH3WbLP1N",
        "outputId": "0c0e12ad-114a-471f-cbf6-767bae6af726"
      },
      "source": [
        "g = data.groupby(['infection'])['patient_id'].count()\n",
        "g = g.reset_index()\n",
        "g.rename(columns = {'patient_id': 'count'}, inplace = True)\n",
        "\n",
        "g = g.sort_values('count', ascending = False)\n",
        "\n",
        "plt.figure(figsize = (12,6))\n",
        "sns.barplot(y = 'infection', x= 'count', data = g)\n",
        "plt.title('number of patients in infection values')\n",
        "display()"
      ],
      "execution_count": null,
      "outputs": [
        {
          "output_type": "display_data",
          "data": {
            "image/png": "[encoded data removed]",
            "text/plain": [
              "<Figure size 864x432 with 1 Axes>"
            ]
          },
          "metadata": {
            "needs_background": "light"
          }
        }
      ]
    },
    {
      "cell_type": "code",
      "metadata": {
        "colab": {
          "base_uri": "https://localhost:8080/",
          "height": 206
        },
        "id": "PNZA5pqrNCgv",
        "outputId": "d9bed8f8-49a7-4ca0-90a2-d587d6e06dcb"
      },
      "source": [
        "route = pd.read_csv(\"/content/drive/MyDrive/Bootcamp/AI_8_스터디/kaggle필사/First/PatientRoute.csv\")\n",
        "route.head()"
      ],
      "execution_count": null,
      "outputs": [
        {
          "output_type": "execute_result",
          "data": {
            "text/html": [
              "<div>\n",
              "<style scoped>\n",
              "    .dataframe tbody tr th:only-of-type {\n",
              "        vertical-align: middle;\n",
              "    }\n",
              "\n",
              "    .dataframe tbody tr th {\n",
              "        vertical-align: top;\n",
              "    }\n",
              "\n",
              "    .dataframe thead th {\n",
              "        text-align: right;\n",
              "    }\n",
              "</style>\n",
              "<table border=\"1\" class=\"dataframe\">\n",
              "  <thead>\n",
              "    <tr style=\"text-align: right;\">\n",
              "      <th></th>\n",
              "      <th>patient_id</th>\n",
              "      <th>global_num</th>\n",
              "      <th>date</th>\n",
              "      <th>province</th>\n",
              "      <th>city</th>\n",
              "      <th>type</th>\n",
              "      <th>latitude</th>\n",
              "      <th>longitude</th>\n",
              "    </tr>\n",
              "  </thead>\n",
              "  <tbody>\n",
              "    <tr>\n",
              "      <th>0</th>\n",
              "      <td>1000000001</td>\n",
              "      <td>2.00</td>\n",
              "      <td>2020-01-22</td>\n",
              "      <td>Gyeonggi-do</td>\n",
              "      <td>Gimpo-si</td>\n",
              "      <td>airport</td>\n",
              "      <td>37.62</td>\n",
              "      <td>126.72</td>\n",
              "    </tr>\n",
              "    <tr>\n",
              "      <th>1</th>\n",
              "      <td>1000000001</td>\n",
              "      <td>2.00</td>\n",
              "      <td>2020-01-24</td>\n",
              "      <td>Seoul</td>\n",
              "      <td>Jung-gu</td>\n",
              "      <td>hospital</td>\n",
              "      <td>37.57</td>\n",
              "      <td>127.01</td>\n",
              "    </tr>\n",
              "    <tr>\n",
              "      <th>2</th>\n",
              "      <td>1000000002</td>\n",
              "      <td>5.00</td>\n",
              "      <td>2020-01-25</td>\n",
              "      <td>Seoul</td>\n",
              "      <td>Seongbuk-gu</td>\n",
              "      <td>etc</td>\n",
              "      <td>37.59</td>\n",
              "      <td>127.02</td>\n",
              "    </tr>\n",
              "    <tr>\n",
              "      <th>3</th>\n",
              "      <td>1000000002</td>\n",
              "      <td>5.00</td>\n",
              "      <td>2020-01-26</td>\n",
              "      <td>Seoul</td>\n",
              "      <td>Seongbuk-gu</td>\n",
              "      <td>store</td>\n",
              "      <td>37.59</td>\n",
              "      <td>127.02</td>\n",
              "    </tr>\n",
              "    <tr>\n",
              "      <th>4</th>\n",
              "      <td>1000000002</td>\n",
              "      <td>5.00</td>\n",
              "      <td>2020-01-26</td>\n",
              "      <td>Seoul</td>\n",
              "      <td>Seongdong-gu</td>\n",
              "      <td>public_transportation</td>\n",
              "      <td>37.56</td>\n",
              "      <td>127.03</td>\n",
              "    </tr>\n",
              "  </tbody>\n",
              "</table>\n",
              "</div>"
            ],
            "text/plain": [
              "   patient_id  global_num  ... latitude longitude\n",
              "0  1000000001        2.00  ...    37.62    126.72\n",
              "1  1000000001        2.00  ...    37.57    127.01\n",
              "2  1000000002        5.00  ...    37.59    127.02\n",
              "3  1000000002        5.00  ...    37.59    127.02\n",
              "4  1000000002        5.00  ...    37.56    127.03\n",
              "\n",
              "[5 rows x 8 columns]"
            ]
          },
          "metadata": {},
          "execution_count": 31
        }
      ]
    },
    {
      "cell_type": "code",
      "metadata": {
        "colab": {
          "base_uri": "https://localhost:8080/"
        },
        "id": "pwGFu6qlNVDy",
        "outputId": "18b50164-f4fa-4f48-b4a2-0aed3ac0cae3"
      },
      "source": [
        "print('the number of unique values in type:', len(route['type'].unique()))\n",
        "route['type'].unique()"
      ],
      "execution_count": null,
      "outputs": [
        {
          "output_type": "stream",
          "name": "stdout",
          "text": [
            "the number of unique values in type: 24\n"
          ]
        },
        {
          "output_type": "execute_result",
          "data": {
            "text/plain": [
              "array(['airport', 'hospital', 'etc', 'store', 'public_transportation',\n",
              "       'restaurant', 'church', 'beauty_salon', 'pharmacy', 'pc_cafe',\n",
              "       'bank', 'cafe', 'bakery', 'bar', 'gym', 'school',\n",
              "       'real_estate_agency', 'karaoke', 'post_office', 'gas_station',\n",
              "       'lodging', 'academy', 'university', 'administrative_area_level_1'],\n",
              "      dtype=object)"
            ]
          },
          "metadata": {},
          "execution_count": 32
        }
      ]
    },
    {
      "cell_type": "code",
      "metadata": {
        "colab": {
          "base_uri": "https://localhost:8080/"
        },
        "id": "LyPH7gcGNfd_",
        "outputId": "d733b9d6-7f1d-49b9-c9e9-67644a3db0aa"
      },
      "source": [
        "route[route['type'].isna()].shape"
      ],
      "execution_count": null,
      "outputs": [
        {
          "output_type": "execute_result",
          "data": {
            "text/plain": [
              "(0, 8)"
            ]
          },
          "metadata": {},
          "execution_count": 33
        }
      ]
    },
    {
      "cell_type": "code",
      "metadata": {
        "id": "ohyxD-_aNgA5"
      },
      "source": [
        "leisure = ['library', 'theater', 'cafe', 'bakery', 'beauty_salon',\n",
        "          'pc_cafe', 'billiards','restaurant', 'bar', 'karaoke']\n",
        "travel = ['airport', 'lodging']\n",
        "essential_edu = ['primary_school', 'school', 'university']\n",
        "non_essential_edu = ['academy']\n",
        "exercise = ['gym', 'mountain', 'park']\n",
        "essential_admin = ['administrative_area_level_1', 'governmnet_office', 'post_office']\n",
        "non_essential_admin = ['police_office', 'bank', 'real_estate_agency']\n",
        "necessity = ['store', 'public_transportation', 'gas_station']\n",
        "medical = ['hospital', 'pharmacy']\n",
        "church = ['church']\n",
        "etc = ['etc']"
      ],
      "execution_count": null,
      "outputs": []
    },
    {
      "cell_type": "code",
      "metadata": {
        "colab": {
          "base_uri": "https://localhost:8080/",
          "height": 206
        },
        "id": "mrJfZWMUPlWI",
        "outputId": "2d0152b9-ba1a-4285-de7c-71fad278fa67"
      },
      "source": [
        "essential = essential_edu + essential_admin + necessity + medical\n",
        "\n",
        "def type_group_essen(x): \n",
        "     \n",
        "    group = None\n",
        "    if x in essential: \n",
        "        group = 'essential'\n",
        "    else:\n",
        "        group = 'non-essential' \n",
        "    return group \n",
        "\n",
        "route['route_group_essential'] = route['type'].apply(lambda x: type_group_essen(x)) \n",
        "route = route[['patient_id', 'type', 'route_group_essential']]\n",
        "route.head()"
      ],
      "execution_count": null,
      "outputs": [
        {
          "output_type": "execute_result",
          "data": {
            "text/html": [
              "<div>\n",
              "<style scoped>\n",
              "    .dataframe tbody tr th:only-of-type {\n",
              "        vertical-align: middle;\n",
              "    }\n",
              "\n",
              "    .dataframe tbody tr th {\n",
              "        vertical-align: top;\n",
              "    }\n",
              "\n",
              "    .dataframe thead th {\n",
              "        text-align: right;\n",
              "    }\n",
              "</style>\n",
              "<table border=\"1\" class=\"dataframe\">\n",
              "  <thead>\n",
              "    <tr style=\"text-align: right;\">\n",
              "      <th></th>\n",
              "      <th>patient_id</th>\n",
              "      <th>type</th>\n",
              "      <th>route_group_essential</th>\n",
              "    </tr>\n",
              "  </thead>\n",
              "  <tbody>\n",
              "    <tr>\n",
              "      <th>0</th>\n",
              "      <td>1000000001</td>\n",
              "      <td>airport</td>\n",
              "      <td>non-essential</td>\n",
              "    </tr>\n",
              "    <tr>\n",
              "      <th>1</th>\n",
              "      <td>1000000001</td>\n",
              "      <td>hospital</td>\n",
              "      <td>essential</td>\n",
              "    </tr>\n",
              "    <tr>\n",
              "      <th>2</th>\n",
              "      <td>1000000002</td>\n",
              "      <td>etc</td>\n",
              "      <td>non-essential</td>\n",
              "    </tr>\n",
              "    <tr>\n",
              "      <th>3</th>\n",
              "      <td>1000000002</td>\n",
              "      <td>store</td>\n",
              "      <td>essential</td>\n",
              "    </tr>\n",
              "    <tr>\n",
              "      <th>4</th>\n",
              "      <td>1000000002</td>\n",
              "      <td>public_transportation</td>\n",
              "      <td>essential</td>\n",
              "    </tr>\n",
              "  </tbody>\n",
              "</table>\n",
              "</div>"
            ],
            "text/plain": [
              "   patient_id                   type route_group_essential\n",
              "0  1000000001                airport         non-essential\n",
              "1  1000000001               hospital             essential\n",
              "2  1000000002                    etc         non-essential\n",
              "3  1000000002                  store             essential\n",
              "4  1000000002  public_transportation             essential"
            ]
          },
          "metadata": {},
          "execution_count": 35
        }
      ]
    },
    {
      "cell_type": "code",
      "metadata": {
        "colab": {
          "base_uri": "https://localhost:8080/",
          "height": 455
        },
        "id": "Uwv_IbATbNmw",
        "outputId": "1b854180-b5fb-4358-dc50-472c0cf9a6d8"
      },
      "source": [
        "route['route_value'] = 1\n",
        "g = pd.DataFrame(route.groupby(['patient_id', 'route_group_essential'])['route_value'].count().unstack())\n",
        "g"
      ],
      "execution_count": null,
      "outputs": [
        {
          "output_type": "execute_result",
          "data": {
            "text/html": [
              "<div>\n",
              "<style scoped>\n",
              "    .dataframe tbody tr th:only-of-type {\n",
              "        vertical-align: middle;\n",
              "    }\n",
              "\n",
              "    .dataframe tbody tr th {\n",
              "        vertical-align: top;\n",
              "    }\n",
              "\n",
              "    .dataframe thead th {\n",
              "        text-align: right;\n",
              "    }\n",
              "</style>\n",
              "<table border=\"1\" class=\"dataframe\">\n",
              "  <thead>\n",
              "    <tr style=\"text-align: right;\">\n",
              "      <th>route_group_essential</th>\n",
              "      <th>essential</th>\n",
              "      <th>non-essential</th>\n",
              "    </tr>\n",
              "    <tr>\n",
              "      <th>patient_id</th>\n",
              "      <th></th>\n",
              "      <th></th>\n",
              "    </tr>\n",
              "  </thead>\n",
              "  <tbody>\n",
              "    <tr>\n",
              "      <th>1000000001</th>\n",
              "      <td>1.00</td>\n",
              "      <td>1.00</td>\n",
              "    </tr>\n",
              "    <tr>\n",
              "      <th>1000000002</th>\n",
              "      <td>9.00</td>\n",
              "      <td>4.00</td>\n",
              "    </tr>\n",
              "    <tr>\n",
              "      <th>1000000003</th>\n",
              "      <td>nan</td>\n",
              "      <td>2.00</td>\n",
              "    </tr>\n",
              "    <tr>\n",
              "      <th>1000000004</th>\n",
              "      <td>1.00</td>\n",
              "      <td>nan</td>\n",
              "    </tr>\n",
              "    <tr>\n",
              "      <th>1000000005</th>\n",
              "      <td>1.00</td>\n",
              "      <td>nan</td>\n",
              "    </tr>\n",
              "    <tr>\n",
              "      <th>...</th>\n",
              "      <td>...</td>\n",
              "      <td>...</td>\n",
              "    </tr>\n",
              "    <tr>\n",
              "      <th>6100000086</th>\n",
              "      <td>2.00</td>\n",
              "      <td>2.00</td>\n",
              "    </tr>\n",
              "    <tr>\n",
              "      <th>6100000087</th>\n",
              "      <td>6.00</td>\n",
              "      <td>2.00</td>\n",
              "    </tr>\n",
              "    <tr>\n",
              "      <th>6100000088</th>\n",
              "      <td>5.00</td>\n",
              "      <td>19.00</td>\n",
              "    </tr>\n",
              "    <tr>\n",
              "      <th>6100000089</th>\n",
              "      <td>1.00</td>\n",
              "      <td>1.00</td>\n",
              "    </tr>\n",
              "    <tr>\n",
              "      <th>6100000090</th>\n",
              "      <td>3.00</td>\n",
              "      <td>4.00</td>\n",
              "    </tr>\n",
              "  </tbody>\n",
              "</table>\n",
              "<p>1211 rows × 2 columns</p>\n",
              "</div>"
            ],
            "text/plain": [
              "route_group_essential  essential  non-essential\n",
              "patient_id                                     \n",
              "1000000001                  1.00           1.00\n",
              "1000000002                  9.00           4.00\n",
              "1000000003                   nan           2.00\n",
              "1000000004                  1.00            nan\n",
              "1000000005                  1.00            nan\n",
              "...                          ...            ...\n",
              "6100000086                  2.00           2.00\n",
              "6100000087                  6.00           2.00\n",
              "6100000088                  5.00          19.00\n",
              "6100000089                  1.00           1.00\n",
              "6100000090                  3.00           4.00\n",
              "\n",
              "[1211 rows x 2 columns]"
            ]
          },
          "metadata": {},
          "execution_count": 36
        }
      ]
    },
    {
      "cell_type": "code",
      "metadata": {
        "colab": {
          "base_uri": "https://localhost:8080/",
          "height": 206
        },
        "id": "WJ8al9vXbhYo",
        "outputId": "e5c3f42e-5114-4156-c26b-8aaa551707f5"
      },
      "source": [
        "g.fillna(0, inplace = True)\n",
        "g.reset_index(inplace = True)\n",
        "g = g[['patient_id', 'essential', 'non-essential']]\n",
        "g.head()"
      ],
      "execution_count": null,
      "outputs": [
        {
          "output_type": "execute_result",
          "data": {
            "text/html": [
              "<div>\n",
              "<style scoped>\n",
              "    .dataframe tbody tr th:only-of-type {\n",
              "        vertical-align: middle;\n",
              "    }\n",
              "\n",
              "    .dataframe tbody tr th {\n",
              "        vertical-align: top;\n",
              "    }\n",
              "\n",
              "    .dataframe thead th {\n",
              "        text-align: right;\n",
              "    }\n",
              "</style>\n",
              "<table border=\"1\" class=\"dataframe\">\n",
              "  <thead>\n",
              "    <tr style=\"text-align: right;\">\n",
              "      <th>route_group_essential</th>\n",
              "      <th>patient_id</th>\n",
              "      <th>essential</th>\n",
              "      <th>non-essential</th>\n",
              "    </tr>\n",
              "  </thead>\n",
              "  <tbody>\n",
              "    <tr>\n",
              "      <th>0</th>\n",
              "      <td>1000000001</td>\n",
              "      <td>1.00</td>\n",
              "      <td>1.00</td>\n",
              "    </tr>\n",
              "    <tr>\n",
              "      <th>1</th>\n",
              "      <td>1000000002</td>\n",
              "      <td>9.00</td>\n",
              "      <td>4.00</td>\n",
              "    </tr>\n",
              "    <tr>\n",
              "      <th>2</th>\n",
              "      <td>1000000003</td>\n",
              "      <td>0.00</td>\n",
              "      <td>2.00</td>\n",
              "    </tr>\n",
              "    <tr>\n",
              "      <th>3</th>\n",
              "      <td>1000000004</td>\n",
              "      <td>1.00</td>\n",
              "      <td>0.00</td>\n",
              "    </tr>\n",
              "    <tr>\n",
              "      <th>4</th>\n",
              "      <td>1000000005</td>\n",
              "      <td>1.00</td>\n",
              "      <td>0.00</td>\n",
              "    </tr>\n",
              "  </tbody>\n",
              "</table>\n",
              "</div>"
            ],
            "text/plain": [
              "route_group_essential  patient_id  essential  non-essential\n",
              "0                      1000000001       1.00           1.00\n",
              "1                      1000000002       9.00           4.00\n",
              "2                      1000000003       0.00           2.00\n",
              "3                      1000000004       1.00           0.00\n",
              "4                      1000000005       1.00           0.00"
            ]
          },
          "metadata": {},
          "execution_count": 37
        }
      ]
    },
    {
      "cell_type": "code",
      "metadata": {
        "colab": {
          "base_uri": "https://localhost:8080/",
          "height": 313
        },
        "id": "rZn9luErcPV1",
        "outputId": "f9d5534e-2d25-4f42-819e-c075c20c9a08"
      },
      "source": [
        "data = data.merge(g, left_on = 'patient_id', right_on = 'patient_id', how = 'left')\n",
        "data.head()"
      ],
      "execution_count": null,
      "outputs": [
        {
          "output_type": "execute_result",
          "data": {
            "text/html": [
              "<div>\n",
              "<style scoped>\n",
              "    .dataframe tbody tr th:only-of-type {\n",
              "        vertical-align: middle;\n",
              "    }\n",
              "\n",
              "    .dataframe tbody tr th {\n",
              "        vertical-align: top;\n",
              "    }\n",
              "\n",
              "    .dataframe thead th {\n",
              "        text-align: right;\n",
              "    }\n",
              "</style>\n",
              "<table border=\"1\" class=\"dataframe\">\n",
              "  <thead>\n",
              "    <tr style=\"text-align: right;\">\n",
              "      <th></th>\n",
              "      <th>patient_id</th>\n",
              "      <th>global_num</th>\n",
              "      <th>sex</th>\n",
              "      <th>birth_year</th>\n",
              "      <th>age</th>\n",
              "      <th>country</th>\n",
              "      <th>province</th>\n",
              "      <th>city</th>\n",
              "      <th>disease</th>\n",
              "      <th>infection_case</th>\n",
              "      <th>infection_order</th>\n",
              "      <th>infected_by</th>\n",
              "      <th>contact_number</th>\n",
              "      <th>symptom_onset_date</th>\n",
              "      <th>confirmed_date</th>\n",
              "      <th>released_date</th>\n",
              "      <th>deceased_date</th>\n",
              "      <th>state</th>\n",
              "      <th>infection</th>\n",
              "      <th>essential</th>\n",
              "      <th>non-essential</th>\n",
              "    </tr>\n",
              "  </thead>\n",
              "  <tbody>\n",
              "    <tr>\n",
              "      <th>0</th>\n",
              "      <td>1000000001</td>\n",
              "      <td>2.00</td>\n",
              "      <td>male</td>\n",
              "      <td>1964.00</td>\n",
              "      <td>50s</td>\n",
              "      <td>Korea</td>\n",
              "      <td>Seoul</td>\n",
              "      <td>Gangseo-gu</td>\n",
              "      <td>NaN</td>\n",
              "      <td>overseas inflow</td>\n",
              "      <td>1.00</td>\n",
              "      <td>nan</td>\n",
              "      <td>75.00</td>\n",
              "      <td>2020-01-22</td>\n",
              "      <td>2020-01-23</td>\n",
              "      <td>2020-02-05</td>\n",
              "      <td>NaN</td>\n",
              "      <td>released</td>\n",
              "      <td>overseas</td>\n",
              "      <td>1.00</td>\n",
              "      <td>1.00</td>\n",
              "    </tr>\n",
              "    <tr>\n",
              "      <th>1</th>\n",
              "      <td>1000000002</td>\n",
              "      <td>5.00</td>\n",
              "      <td>male</td>\n",
              "      <td>1987.00</td>\n",
              "      <td>30s</td>\n",
              "      <td>Korea</td>\n",
              "      <td>Seoul</td>\n",
              "      <td>Jungnang-gu</td>\n",
              "      <td>NaN</td>\n",
              "      <td>overseas inflow</td>\n",
              "      <td>1.00</td>\n",
              "      <td>nan</td>\n",
              "      <td>31.00</td>\n",
              "      <td>NaN</td>\n",
              "      <td>2020-01-30</td>\n",
              "      <td>2020-03-02</td>\n",
              "      <td>NaN</td>\n",
              "      <td>released</td>\n",
              "      <td>overseas</td>\n",
              "      <td>9.00</td>\n",
              "      <td>4.00</td>\n",
              "    </tr>\n",
              "    <tr>\n",
              "      <th>2</th>\n",
              "      <td>1000000003</td>\n",
              "      <td>6.00</td>\n",
              "      <td>male</td>\n",
              "      <td>1964.00</td>\n",
              "      <td>50s</td>\n",
              "      <td>Korea</td>\n",
              "      <td>Seoul</td>\n",
              "      <td>Jongno-gu</td>\n",
              "      <td>NaN</td>\n",
              "      <td>contact with patient</td>\n",
              "      <td>2.00</td>\n",
              "      <td>2002000001.00</td>\n",
              "      <td>17.00</td>\n",
              "      <td>NaN</td>\n",
              "      <td>2020-01-30</td>\n",
              "      <td>2020-02-19</td>\n",
              "      <td>NaN</td>\n",
              "      <td>released</td>\n",
              "      <td>individual</td>\n",
              "      <td>0.00</td>\n",
              "      <td>2.00</td>\n",
              "    </tr>\n",
              "    <tr>\n",
              "      <th>3</th>\n",
              "      <td>1000000004</td>\n",
              "      <td>7.00</td>\n",
              "      <td>male</td>\n",
              "      <td>1991.00</td>\n",
              "      <td>20s</td>\n",
              "      <td>Korea</td>\n",
              "      <td>Seoul</td>\n",
              "      <td>Mapo-gu</td>\n",
              "      <td>NaN</td>\n",
              "      <td>overseas inflow</td>\n",
              "      <td>1.00</td>\n",
              "      <td>nan</td>\n",
              "      <td>9.00</td>\n",
              "      <td>2020-01-26</td>\n",
              "      <td>2020-01-30</td>\n",
              "      <td>2020-02-15</td>\n",
              "      <td>NaN</td>\n",
              "      <td>released</td>\n",
              "      <td>overseas</td>\n",
              "      <td>1.00</td>\n",
              "      <td>0.00</td>\n",
              "    </tr>\n",
              "    <tr>\n",
              "      <th>4</th>\n",
              "      <td>1000000005</td>\n",
              "      <td>9.00</td>\n",
              "      <td>female</td>\n",
              "      <td>1992.00</td>\n",
              "      <td>20s</td>\n",
              "      <td>Korea</td>\n",
              "      <td>Seoul</td>\n",
              "      <td>Seongbuk-gu</td>\n",
              "      <td>NaN</td>\n",
              "      <td>contact with patient</td>\n",
              "      <td>2.00</td>\n",
              "      <td>1000000002.00</td>\n",
              "      <td>2.00</td>\n",
              "      <td>NaN</td>\n",
              "      <td>2020-01-31</td>\n",
              "      <td>2020-02-24</td>\n",
              "      <td>NaN</td>\n",
              "      <td>released</td>\n",
              "      <td>individual</td>\n",
              "      <td>1.00</td>\n",
              "      <td>0.00</td>\n",
              "    </tr>\n",
              "  </tbody>\n",
              "</table>\n",
              "</div>"
            ],
            "text/plain": [
              "   patient_id  global_num     sex  ...   infection essential non-essential\n",
              "0  1000000001        2.00    male  ...    overseas      1.00          1.00\n",
              "1  1000000002        5.00    male  ...    overseas      9.00          4.00\n",
              "2  1000000003        6.00    male  ...  individual      0.00          2.00\n",
              "3  1000000004        7.00    male  ...    overseas      1.00          0.00\n",
              "4  1000000005        9.00  female  ...  individual      1.00          0.00\n",
              "\n",
              "[5 rows x 21 columns]"
            ]
          },
          "metadata": {},
          "execution_count": 38
        }
      ]
    },
    {
      "cell_type": "code",
      "metadata": {
        "colab": {
          "base_uri": "https://localhost:8080/"
        },
        "id": "Kdv0EatQcegS",
        "outputId": "fd286bee-476f-4515-f1e4-909e7c735252"
      },
      "source": [
        "print(data.shape)\n",
        "data[(data['essential'].isna()) | (data['non-essential'].isna())].shape"
      ],
      "execution_count": null,
      "outputs": [
        {
          "output_type": "stream",
          "name": "stdout",
          "text": [
            "(3374, 21)\n"
          ]
        },
        {
          "output_type": "execute_result",
          "data": {
            "text/plain": [
              "(2170, 21)"
            ]
          },
          "metadata": {},
          "execution_count": 39
        }
      ]
    },
    {
      "cell_type": "code",
      "metadata": {
        "colab": {
          "base_uri": "https://localhost:8080/"
        },
        "id": "ymcwVkxFcp33",
        "outputId": "8c12e958-bd72-48b0-fbd1-094410795d9f"
      },
      "source": [
        "print('original data shape:', data.shape)\n",
        "data = data[(data['essential'].notna()) & (data['non-essential'].notna())] \n",
        "print('data shape after removing missing values in essentail/non-essential:', data.shape)"
      ],
      "execution_count": null,
      "outputs": [
        {
          "output_type": "stream",
          "name": "stdout",
          "text": [
            "original data shape: (3374, 21)\n",
            "data shape after removing missing values in essentail/non-essential: (1204, 21)\n"
          ]
        }
      ]
    },
    {
      "cell_type": "code",
      "metadata": {
        "colab": {
          "base_uri": "https://localhost:8080/",
          "height": 280
        },
        "id": "qyP7wK-vcrSf",
        "outputId": "1dfa27d2-d075-49c8-976b-08d1509ae26f"
      },
      "source": [
        "sns.distplot(data['contact_number'])\n",
        "display()"
      ],
      "execution_count": null,
      "outputs": [
        {
          "output_type": "display_data",
          "data": {
            "image/png": "[encoded data removed]",
            "text/plain": [
              "<Figure size 432x288 with 1 Axes>"
            ]
          },
          "metadata": {
            "needs_background": "light"
          }
        }
      ]
    },
    {
      "cell_type": "code",
      "metadata": {
        "colab": {
          "base_uri": "https://localhost:8080/"
        },
        "id": "vy_y8y5edA0K",
        "outputId": "24c083a7-e1d0-4b80-f7e9-5d4f0156980b"
      },
      "source": [
        "data['contact_number'].describe()"
      ],
      "execution_count": null,
      "outputs": [
        {
          "output_type": "execute_result",
          "data": {
            "text/plain": [
              "count    332.00\n",
              "mean      24.27\n",
              "std       95.07\n",
              "min        0.00\n",
              "25%        2.00\n",
              "50%        5.00\n",
              "75%       17.25\n",
              "max     1160.00\n",
              "Name: contact_number, dtype: float64"
            ]
          },
          "metadata": {},
          "execution_count": 42
        }
      ]
    },
    {
      "cell_type": "code",
      "metadata": {
        "colab": {
          "base_uri": "https://localhost:8080/",
          "height": 135
        },
        "id": "3Kv7TzLXdM92",
        "outputId": "d37c81db-aa13-4a60-df0f-ef20f346c5d7"
      },
      "source": [
        "data[data['contact_number'] == 1160]"
      ],
      "execution_count": null,
      "outputs": [
        {
          "output_type": "execute_result",
          "data": {
            "text/html": [
              "<div>\n",
              "<style scoped>\n",
              "    .dataframe tbody tr th:only-of-type {\n",
              "        vertical-align: middle;\n",
              "    }\n",
              "\n",
              "    .dataframe tbody tr th {\n",
              "        vertical-align: top;\n",
              "    }\n",
              "\n",
              "    .dataframe thead th {\n",
              "        text-align: right;\n",
              "    }\n",
              "</style>\n",
              "<table border=\"1\" class=\"dataframe\">\n",
              "  <thead>\n",
              "    <tr style=\"text-align: right;\">\n",
              "      <th></th>\n",
              "      <th>patient_id</th>\n",
              "      <th>global_num</th>\n",
              "      <th>sex</th>\n",
              "      <th>birth_year</th>\n",
              "      <th>age</th>\n",
              "      <th>country</th>\n",
              "      <th>province</th>\n",
              "      <th>city</th>\n",
              "      <th>disease</th>\n",
              "      <th>infection_case</th>\n",
              "      <th>infection_order</th>\n",
              "      <th>infected_by</th>\n",
              "      <th>contact_number</th>\n",
              "      <th>symptom_onset_date</th>\n",
              "      <th>confirmed_date</th>\n",
              "      <th>released_date</th>\n",
              "      <th>deceased_date</th>\n",
              "      <th>state</th>\n",
              "      <th>infection</th>\n",
              "      <th>essential</th>\n",
              "      <th>non-essential</th>\n",
              "    </tr>\n",
              "  </thead>\n",
              "  <tbody>\n",
              "    <tr>\n",
              "      <th>764</th>\n",
              "      <td>1200000031</td>\n",
              "      <td>31.00</td>\n",
              "      <td>female</td>\n",
              "      <td>1959.00</td>\n",
              "      <td>60s</td>\n",
              "      <td>Korea</td>\n",
              "      <td>Daegu</td>\n",
              "      <td>NaN</td>\n",
              "      <td>NaN</td>\n",
              "      <td>Shincheonji Church</td>\n",
              "      <td>nan</td>\n",
              "      <td>nan</td>\n",
              "      <td>1160.00</td>\n",
              "      <td>NaN</td>\n",
              "      <td>2020-02-18</td>\n",
              "      <td>NaN</td>\n",
              "      <td>NaN</td>\n",
              "      <td>isolated</td>\n",
              "      <td>group</td>\n",
              "      <td>11.00</td>\n",
              "      <td>5.00</td>\n",
              "    </tr>\n",
              "  </tbody>\n",
              "</table>\n",
              "</div>"
            ],
            "text/plain": [
              "     patient_id  global_num     sex  ...  infection essential non-essential\n",
              "764  1200000031       31.00  female  ...      group     11.00          5.00\n",
              "\n",
              "[1 rows x 21 columns]"
            ]
          },
          "metadata": {},
          "execution_count": 43
        }
      ]
    },
    {
      "cell_type": "code",
      "metadata": {
        "colab": {
          "base_uri": "https://localhost:8080/"
        },
        "id": "efsx2PvNeXYw",
        "outputId": "a7db6793-ab96-4fd5-f10f-d8e8136c942b"
      },
      "source": [
        "print('original data shape:', data.shape)\n",
        "data = data[data['contact_number'].notna()]\n",
        "print('data shape after removing missing values in contact_number:', data.shape)"
      ],
      "execution_count": null,
      "outputs": [
        {
          "output_type": "stream",
          "name": "stdout",
          "text": [
            "original data shape: (1204, 21)\n",
            "data shape after removing missing values in contact_number: (332, 21)\n"
          ]
        }
      ]
    },
    {
      "cell_type": "code",
      "metadata": {
        "colab": {
          "base_uri": "https://localhost:8080/"
        },
        "id": "8ndpkI6KeZL2",
        "outputId": "609905da-6db6-4cb3-8c3b-ae947b70839a"
      },
      "source": [
        "print('data shape:', data.shape)\n",
        "print('missing values in symptom_onset_date:', data[data['symptom_onset_date'].isna()].shape)\n",
        "print('missing values in confirmed_date:', data[data['confirmed_date'].isna()].shape)"
      ],
      "execution_count": null,
      "outputs": [
        {
          "output_type": "stream",
          "name": "stdout",
          "text": [
            "data shape: (332, 21)\n",
            "missing values in symptom_onset_date: (208, 21)\n",
            "missing values in confirmed_date: (0, 21)\n"
          ]
        }
      ]
    }
  ]
}